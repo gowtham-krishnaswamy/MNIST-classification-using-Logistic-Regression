{
 "cells": [
  {
   "cell_type": "markdown",
   "metadata": {
    "slideshow": {
     "slide_type": "slide"
    }
   },
   "source": [
    "# Multi class logistic regression"
   ]
  },
  {
   "cell_type": "code",
   "execution_count": 1,
   "metadata": {
    "scrolled": true,
    "slideshow": {
     "slide_type": "subslide"
    }
   },
   "outputs": [],
   "source": [
    "import tensorflow as tf # need to import the right package\n",
    "import numpy as np "
   ]
  },
  {
   "cell_type": "markdown",
   "metadata": {
    "slideshow": {
     "slide_type": "slide"
    }
   },
   "source": [
    "\n",
    "Here we will build a simple logistic regression model to classify mnist data set\n",
    "\n",
    "Task: **classify the hadwritten digit label $\\in \\{1, 2, \\cdots, 9 \\}$ using pixel from the digit image.**\n",
    "\n",
    "This is classification(discrete label output) problem and multi class logistic regression can be used here\n",
    "\n",
    "Check   [Yann LeCun](http://yann.lecun.com/),      http://yann.lecun.com/exdb/mnist/  website for details about mnist dataset etc.\n",
    "\n"
   ]
  },
  {
   "cell_type": "code",
   "execution_count": 3,
   "metadata": {
    "slideshow": {
     "slide_type": "-"
    }
   },
   "outputs": [
    {
     "name": "stdout",
     "output_type": "stream",
     "text": [
      "Extracting MNIST_data\\train-images-idx3-ubyte.gz\n",
      "Extracting MNIST_data\\train-labels-idx1-ubyte.gz\n",
      "Extracting MNIST_data\\t10k-images-idx3-ubyte.gz\n",
      "Extracting MNIST_data\\t10k-labels-idx1-ubyte.gz\n"
     ]
    }
   ],
   "source": [
    "from tensorflow.examples.tutorials.mnist import input_data\n",
    "mnist = input_data.read_data_sets('MNIST_data', one_hot=True)"
   ]
  },
  {
   "cell_type": "markdown",
   "metadata": {},
   "source": [
    "## Verifying if everthing looks good"
   ]
  },
  {
   "cell_type": "code",
   "execution_count": 4,
   "metadata": {},
   "outputs": [
    {
     "name": "stdout",
     "output_type": "stream",
     "text": [
      "55000 training example with shape (784,)\n",
      "10000 test example with shape (784,)\n"
     ]
    },
    {
     "data": {
      "text/plain": [
       "(55000, 784)"
      ]
     },
     "execution_count": 4,
     "metadata": {},
     "output_type": "execute_result"
    }
   ],
   "source": [
    "print('{} training example with shape {}'.format(mnist.train.num_examples, mnist.train.images[0].shape))\n",
    "print('{} test example with shape {}'.format(mnist.test.num_examples, mnist.test.images[0].shape))\n",
    "mnist.train.images.shape"
   ]
  },
  {
   "cell_type": "markdown",
   "metadata": {},
   "source": [
    "Dataset contains 55000 training and 10000 test example for handwritten digits in vectorized form(take pixel along rows and stack them in a column vector).\n",
    "\n",
    "Images are 28X28 gray scale. After vectrorization we have 784 dimentional vector"
   ]
  },
  {
   "cell_type": "code",
   "execution_count": null,
   "metadata": {},
   "outputs": [],
   "source": [
    "28*28 == 784"
   ]
  },
  {
   "cell_type": "markdown",
   "metadata": {},
   "source": [
    "## Sanity check"
   ]
  },
  {
   "cell_type": "code",
   "execution_count": 5,
   "metadata": {},
   "outputs": [
    {
     "name": "stdout",
     "output_type": "stream",
     "text": [
      "[0 1 2 3 4 5 6 7 8 9]\n"
     ]
    }
   ],
   "source": [
    "\n",
    "NUM_CLASSES = 10\n",
    "X_DIM = 28\n",
    "Y_DIM = 28\n",
    "import numpy as np\n",
    "unique_label = np.unique(np.argmax(mnist.train.labels, 1))\n",
    "print(unique_label)\n",
    "assert NUM_CLASSES == len(unique_label), 'number of label does not match'\n",
    "assert X_DIM*Y_DIM == mnist.train.images[0].size, 'total pixel does not match'"
   ]
  },
  {
   "cell_type": "markdown",
   "metadata": {},
   "source": [
    "## Viewing some of them"
   ]
  },
  {
   "cell_type": "code",
   "execution_count": 6,
   "metadata": {},
   "outputs": [],
   "source": [
    "# magic command so that images are inline in notebook\n",
    "%matplotlib inline \n",
    "import matplotlib.pyplot as plt # visualization package in python"
   ]
  },
  {
   "cell_type": "code",
   "execution_count": 7,
   "metadata": {},
   "outputs": [
    {
     "name": "stdout",
     "output_type": "stream",
     "text": [
      "[ 2732 43567 42613 52416 45891 21243 30403 32103 41993 20757 46884 14935\n",
      " 15430 48600 39512 52620]\n"
     ]
    },
    {
     "data": {
      "image/png": "[encoded data removed]",
      "text/plain": [
       "<Figure size 1152x1152 with 16 Axes>"
      ]
     },
     "metadata": {
      "needs_background": "light"
     },
     "output_type": "display_data"
    }
   ],
   "source": [
    "np.random.seed(0) # to make sure we have deterministic results on each iteration\n",
    "NUM_FIG_DISP = 16\n",
    "nrow = NUM_FIG_DISP//2\n",
    "ncol = NUM_FIG_DISP//2\n",
    "rand_ind = np.random.randint(mnist.train.num_examples, size=NUM_FIG_DISP)\n",
    "print(rand_ind)\n",
    "plt.figure(1,figsize= (16, 16))\n",
    "plt.gray()\n",
    "for idx, image_index in enumerate(rand_ind):\n",
    "    plt.subplot(nrow,ncol,idx +1)\n",
    "    # Have to reshape to 28x28 for display\n",
    "    plt.imshow(np.reshape(mnist.train.images[image_index], (X_DIM, Y_DIM)) )\n",
    "    plt.title('label is {}'.format(np.argmax(mnist.train.labels[image_index])))  \n",
    "    plt.axis('off')\n",
    "plt.show()"
   ]
  },
  {
   "cell_type": "markdown",
   "metadata": {},
   "source": [
    "### For each class $c \\in \\{1, 2, \\cdots, K= 10   \\}$ we need to compute\n",
    "\n",
    " probablity\n",
    " <font size = 6>\n",
    " $P(y = c|x) = \\frac{\\exp(w_{oc} + w_c^Tx)}{\\sum_i^K \\exp(w_{oi} + w_i^Tx) }$\n",
    " </font>\n",
    " \n",
    " \n",
    " Note the one can either add 1 to features or work with $D+1$ dimentional features or add class bias $w_{oc}$ term for each class explicility as done in above formula.\n",
    " \n",
    " We can keep each weight vector $[w_{c}]_{D \\times 1}$ in $D\\times K$ matrix $W$, \n",
    " $$W = {\\begin{bmatrix} w_1, w_2, \\cdots, w_K \\end{bmatrix}}_{D \\times K}$$\n",
    " \n",
    " and class biases  in vector  $W_o = {\\begin{bmatrix} w_{o1}\\\\ w_{02} \\\\ \\vdots \\\\ w_{0K} \\end{bmatrix}}_{K \\times 1}$. $D$ is data dimension.\n",
    " \n",
    " \n",
    " Using matrix operation we can calculate each class probability for given example $x_{784 \\times 1}$ by doing\n",
    " \n",
    " $softmax(W_o +  W^T x)$ where \n",
    " \n",
    " $$W_o + W^Tx = \\begin{bmatrix} w_{o1}\\\\ \\vdots \\\\ w_{oK} \\end{bmatrix} + \\begin{bmatrix}  w_1^T\\\\ \\vdots \\\\  w_K^T \\end{bmatrix} x = \\begin{bmatrix}w_{01} + w_1^Tx\\\\ \\vdots \\\\ w_{0K} + w_K^Tx \\end{bmatrix}$$\n",
    " \n",
    " Also, \n",
    " <font size = 5>\n",
    " \n",
    " $$softmax(\\begin{bmatrix} z_1 \\\\ z_2 \\\\ \\vdots \\\\ z_K  \\end{bmatrix}) = \\begin{bmatrix} \\frac{\\exp(z_1)}{\\sum_i^K \\exp(z_i)} \\\\ \\frac{\\exp(z_2)}{\\sum_i^K \\exp(z_i)} \\\\ \\vdots \\\\ \\frac{\\exp(z_K)}{\\sum_i^K \\exp(z_i)}  \\end{bmatrix} $$ </font>\n",
    " \n",
    " By applying softmax, we will get the formula at the beginning of the cell."
   ]
  },
  {
   "cell_type": "code",
   "execution_count": 8,
   "metadata": {
    "scrolled": true
   },
   "outputs": [
    {
     "name": "stdout",
     "output_type": "stream",
     "text": [
      "(?, 784) (?, 10)\n"
     ]
    }
   ],
   "source": [
    "PIXELS_PER_SAMPLE = X_DIM*Y_DIM\n",
    "\n",
    "X =  tf.placeholder(tf.float32, [None, PIXELS_PER_SAMPLE])\n",
    "Y = tf.placeholder(tf.float32, [None,10])\n",
    "\n",
    "print(X.shape, Y.shape)\n",
    "\n"
   ]
  },
  {
   "cell_type": "code",
   "execution_count": 10,
   "metadata": {},
   "outputs": [
    {
     "name": "stdout",
     "output_type": "stream",
     "text": [
      "(?, 784) (784, 10) (10, 1)\n",
      "shape of prediction vector is (10, ?)\n"
     ]
    }
   ],
   "source": [
    "with tf.variable_scope(\"multi_class_logistic_model\", reuse=tf.AUTO_REUSE):\n",
    "    W = tf.get_variable('Weight_matrix', initializer = tf.random_normal(shape = (X_DIM*Y_DIM, NUM_CLASSES)))    \n",
    "    W_o= tf.get_variable('W0_matrix', initializer = tf.zeros([NUM_CLASSES, 1]))\n",
    "    print(X.shape, W.shape, W_o.shape)\n",
    "    # we have to do X traspose as examples are along the row and we need them along columns\n",
    "\n",
    "    Y_pred = tf.matmul(tf.transpose(W), tf.transpose(X))  + W_o\n",
    "    \n",
    "print('shape of prediction vector is {}'.format(Y_pred.shape))"
   ]
  },
  {
   "cell_type": "markdown",
   "metadata": {},
   "source": [
    "# '?' in above shape represent free dimension so let transpose it again to keep free dimension first"
   ]
  },
  {
   "cell_type": "code",
   "execution_count": 11,
   "metadata": {},
   "outputs": [
    {
     "name": "stdout",
     "output_type": "stream",
     "text": [
      "shape of prediction vector is (?, 10)\n"
     ]
    }
   ],
   "source": [
    "\n",
    "Y_pred = tf.transpose(Y_pred)\n",
    "print('shape of prediction vector is {}'.format(Y_pred.shape))"
   ]
  },
  {
   "cell_type": "markdown",
   "metadata": {},
   "source": [
    "## Let's convert this score vector of 10 into probability vector using softmax"
   ]
  },
  {
   "cell_type": "code",
   "execution_count": 12,
   "metadata": {},
   "outputs": [
    {
     "name": "stdout",
     "output_type": "stream",
     "text": [
      "shape of prediction vector is (?, 10)\n"
     ]
    }
   ],
   "source": [
    "Y_pred_prob = tf.nn.softmax(Y_pred)\n",
    "print('shape of prediction vector is {}'.format(Y_pred_prob.shape))"
   ]
  },
  {
   "cell_type": "markdown",
   "metadata": {},
   "source": [
    "## Building a loss/cost/objective function to measure how good we are doing\n",
    "\n",
    "We use cross entopy."
   ]
  },
  {
   "cell_type": "code",
   "execution_count": 28,
   "metadata": {},
   "outputs": [],
   "source": [
    "loss = -tf.math.reduce_sum(tf.linalg.tensor_diag_part(tf.matmul(Y, tf.transpose(tf.math.log(Y_pred_prob)))))"
   ]
  },
  {
   "cell_type": "markdown",
   "metadata": {},
   "source": [
    "## Building an accuracy measure"
   ]
  },
  {
   "cell_type": "code",
   "execution_count": 14,
   "metadata": {},
   "outputs": [],
   "source": [
    "max_val = tf.math.argmax(Y_pred_prob, axis = 1)\n",
    "accuracy = tf.math.reduce_mean(tf.dtypes.cast(tf.math.equal(max_val, tf.argmax(Y, axis = 1)), tf.float32))"
   ]
  },
  {
   "cell_type": "code",
   "execution_count": 15,
   "metadata": {},
   "outputs": [
    {
     "data": {
      "text/plain": [
       "TensorShape([])"
      ]
     },
     "execution_count": 15,
     "metadata": {},
     "output_type": "execute_result"
    }
   ],
   "source": [
    "accuracy.get_shape()"
   ]
  },
  {
   "cell_type": "markdown",
   "metadata": {},
   "source": [
    "## Creating an optimizer"
   ]
  },
  {
   "cell_type": "code",
   "execution_count": 31,
   "metadata": {},
   "outputs": [],
   "source": [
    "opt = tf.train.GradientDescentOptimizer(learning_rate = 0.1).minimize(loss)\n"
   ]
  },
  {
   "cell_type": "markdown",
   "metadata": {},
   "source": [
    "## When we run above *opt*(optimizer node) node it calculates loss, gradient and updates the model weights"
   ]
  },
  {
   "cell_type": "code",
   "execution_count": 17,
   "metadata": {},
   "outputs": [
    {
     "name": "stdout",
     "output_type": "stream",
     "text": [
      "float32\n",
      "float64\n"
     ]
    }
   ],
   "source": [
    "print(mnist.train.images[0].dtype)\n",
    "print(mnist.train.labels[0].dtype)"
   ]
  },
  {
   "cell_type": "code",
   "execution_count": 18,
   "metadata": {},
   "outputs": [],
   "source": [
    "BATCH_SIZE = 100\n",
    "NUM_EPOCHS = 20"
   ]
  },
  {
   "cell_type": "markdown",
   "metadata": {},
   "source": [
    "## Running the model"
   ]
  },
  {
   "cell_type": "code",
   "execution_count": null,
   "metadata": {},
   "outputs": [
    {
     "name": "stdout",
     "output_type": "stream",
     "text": [
      "epoch 1 training batch 100 loss nan accu 0.07999999821186066\n",
      "epoch 1 training batch 200 loss nan accu 0.07000000029802322\n",
      "epoch 1 training batch 300 loss nan accu 0.12999999523162842\n",
      "epoch 1 training batch 400 loss nan accu 0.12999999523162842\n",
      "epoch 1 training batch 500 loss nan accu 0.10999999940395355\n",
      "##################################\n",
      "epoch 1 # test accuracy 0.09799999743700027 $ test loss nan\n",
      "##################################\n",
      "epoch 2 training batch 100 loss nan accu 0.07999999821186066\n",
      "epoch 2 training batch 200 loss nan accu 0.03999999910593033\n",
      "epoch 2 training batch 300 loss nan accu 0.07999999821186066\n",
      "epoch 2 training batch 400 loss nan accu 0.05999999865889549\n",
      "epoch 2 training batch 500 loss nan accu 0.029999999329447746\n",
      "##################################\n",
      "epoch 2 # test accuracy 0.09799999743700027 $ test loss nan\n",
      "##################################\n",
      "epoch 3 training batch 100 loss nan accu 0.07999999821186066\n",
      "epoch 3 training batch 200 loss nan accu 0.07000000029802322\n",
      "epoch 3 training batch 300 loss nan accu 0.07999999821186066\n",
      "epoch 3 training batch 400 loss nan accu 0.11999999731779099\n",
      "epoch 3 training batch 500 loss nan accu 0.09000000357627869\n",
      "##################################\n",
      "epoch 3 # test accuracy 0.09799999743700027 $ test loss nan\n",
      "##################################\n",
      "epoch 4 training batch 100 loss nan accu 0.07000000029802322\n",
      "epoch 4 training batch 200 loss nan accu 0.09000000357627869\n",
      "epoch 4 training batch 300 loss nan accu 0.10999999940395355\n",
      "epoch 4 training batch 400 loss nan accu 0.07999999821186066\n",
      "epoch 4 training batch 500 loss nan accu 0.10999999940395355\n",
      "##################################\n",
      "epoch 4 # test accuracy 0.09799999743700027 $ test loss nan\n",
      "##################################\n",
      "epoch 5 training batch 100 loss nan accu 0.07000000029802322\n",
      "epoch 5 training batch 200 loss nan accu 0.07999999821186066\n",
      "epoch 5 training batch 300 loss nan accu 0.10999999940395355\n",
      "epoch 5 training batch 400 loss nan accu 0.07000000029802322\n",
      "epoch 5 training batch 500 loss nan accu 0.05999999865889549\n",
      "##################################\n",
      "epoch 5 # test accuracy 0.09799999743700027 $ test loss nan\n",
      "##################################\n",
      "epoch 6 training batch 100 loss nan accu 0.11999999731779099\n",
      "epoch 6 training batch 200 loss nan accu 0.07000000029802322\n",
      "epoch 6 training batch 300 loss nan accu 0.17000000178813934\n",
      "epoch 6 training batch 400 loss nan accu 0.07000000029802322\n",
      "epoch 6 training batch 500 loss nan accu 0.10999999940395355\n",
      "##################################\n",
      "epoch 6 # test accuracy 0.09799999743700027 $ test loss nan\n",
      "##################################\n",
      "epoch 7 training batch 100 loss nan accu 0.05999999865889549\n",
      "epoch 7 training batch 200 loss nan accu 0.14000000059604645\n",
      "epoch 7 training batch 300 loss nan accu 0.07999999821186066\n",
      "epoch 7 training batch 400 loss nan accu 0.05000000074505806\n",
      "epoch 7 training batch 500 loss nan accu 0.10999999940395355\n",
      "##################################\n",
      "epoch 7 # test accuracy 0.09799999743700027 $ test loss nan\n",
      "##################################\n",
      "epoch 8 training batch 100 loss nan accu 0.05999999865889549\n",
      "epoch 8 training batch 200 loss nan accu 0.07000000029802322\n",
      "epoch 8 training batch 300 loss nan accu 0.12999999523162842\n",
      "epoch 8 training batch 400 loss nan accu 0.14000000059604645\n"
     ]
    }
   ],
   "source": [
    "train_losses, val_losses = [], []\n",
    "train_accuracies, val_accuracies = [], []\n",
    "with tf.Session() as sess:\n",
    "    sess.run(tf.global_variables_initializer())\n",
    "    for eidx in range(NUM_EPOCHS):\n",
    "        epoch_acc, epoch_loss = [], []\n",
    "        for bidx in range(mnist.train.num_examples// BATCH_SIZE):\n",
    "            xs, ys = mnist.train.next_batch(BATCH_SIZE)\n",
    "            xs = xs.astype(np.float32)\n",
    "            _, train_loss, train_acc= sess.run([opt, loss, accuracy], feed_dict = {X: xs, Y:ys})\n",
    "            if (bidx+1)%100 == 0: # print result every 100 batch\n",
    "                print('epoch {} training batch {} loss {} accu {}'.format(eidx +1 , bidx +1, train_loss, train_acc))\n",
    "            epoch_acc.append(train_acc)\n",
    "            epoch_loss.append(train_loss)\n",
    "        print('##################################')\n",
    "        val_acc, val_loss = sess.run([accuracy, loss],\n",
    "            feed_dict= {X:mnist.test.images.astype(np.float32), Y: mnist.test.labels})\n",
    "        print('epoch {} # test accuracy {} $ test loss {}'.format(eidx +1, val_acc, val_loss ))\n",
    "        print('##################################') \n",
    "        # Let keep epoch level values for plotting\n",
    "        train_losses.append(np.mean(epoch_loss))\n",
    "        train_accuracies.append(np.mean(epoch_acc))\n",
    "        val_losses.append(val_loss)\n",
    "        val_accuracies.append(val_acc)\n",
    "                "
   ]
  },
  {
   "cell_type": "code",
   "execution_count": 40,
   "metadata": {},
   "outputs": [
    {
     "data": {
      "image/png": "[encoded data removed]",
      "text/plain": [
       "<Figure size 432x288 with 1 Axes>"
      ]
     },
     "metadata": {
      "needs_background": "light"
     },
     "output_type": "display_data"
    }
   ],
   "source": [
    "plt.plot(range(1, NUM_EPOCHS+1),  train_losses)\n",
    "plt.plot(range(1, NUM_EPOCHS+1),  val_losses)\n",
    "plt.legend(['train loss','validation loss'])\n",
    "plt.show()"
   ]
  },
  {
   "cell_type": "markdown",
   "metadata": {},
   "source": [
    "## Plot showing training and validation accuracies"
   ]
  },
  {
   "cell_type": "code",
   "execution_count": 41,
   "metadata": {},
   "outputs": [
    {
     "data": {
      "image/png": "[encoded data removed]",
      "text/plain": [
       "<Figure size 432x288 with 1 Axes>"
      ]
     },
     "metadata": {
      "needs_background": "light"
     },
     "output_type": "display_data"
    }
   ],
   "source": [
    "plt.plot(range(1, NUM_EPOCHS+1),  train_accuracies)\n",
    "plt.plot(range(1, NUM_EPOCHS+1),  val_accuracies)\n",
    "plt.legend(['train accuracies','validation accuracies'])\n",
    "plt.show()"
   ]
  }
 ],
 "metadata": {
  "celltoolbar": "Slideshow",
  "kernelspec": {
   "display_name": "Python 3",
   "language": "python",
   "name": "python3"
  },
  "language_info": {
   "codemirror_mode": {
    "name": "ipython",
    "version": 3
   },
   "file_extension": ".py",
   "mimetype": "text/x-python",
   "name": "python",
   "nbconvert_exporter": "python",
   "pygments_lexer": "ipython3",
   "version": "3.7.4"
  },
  "toc": {
   "base_numbering": 1,
   "nav_menu": {},
   "number_sections": false,
   "sideBar": true,
   "skip_h1_title": false,
   "title_cell": "Table of Contents",
   "title_sidebar": "Contents",
   "toc_cell": false,
   "toc_position": {},
   "toc_section_display": true,
   "toc_window_display": false
  },
  "varInspector": {
   "cols": {
    "lenName": 16,
    "lenType": 16,
    "lenVar": 40
   },
   "kernels_config": {
    "python": {
     "delete_cmd_postfix": "",
     "delete_cmd_prefix": "del ",
     "library": "var_list.py",
     "varRefreshCmd": "print(var_dic_list())"
    },
    "r": {
     "delete_cmd_postfix": ") ",
     "delete_cmd_prefix": "rm(",
     "library": "var_list.r",
     "varRefreshCmd": "cat(var_dic_list()) "
    }
   },
   "types_to_exclude": [
    "module",
    "function",
    "builtin_function_or_method",
    "instance",
    "_Feature"
   ],
   "window_display": false
  }
 },
 "nbformat": 4,
 "nbformat_minor": 1
}
